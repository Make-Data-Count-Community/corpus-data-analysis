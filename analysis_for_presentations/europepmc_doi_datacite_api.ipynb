{
 "cells": [
  {
   "cell_type": "code",
   "execution_count": 1,
   "metadata": {},
   "outputs": [],
   "source": [
    "import os\n",
    "import sys\n",
    "from pathlib import Path\n",
    "import json\n",
    "import pickle\n",
    "import re\n",
    "import requests\n",
    "from tqdm import tqdm"
   ]
  },
  {
   "cell_type": "code",
   "execution_count": 2,
   "metadata": {},
   "outputs": [],
   "source": [
    "import pandas as pd\n",
    "import numpy as np"
   ]
  },
  {
   "cell_type": "code",
   "execution_count": 3,
   "metadata": {},
   "outputs": [],
   "source": [
    "df_accession_match = pd.read_csv(\"../data/poster_acrl2025/openalex_data_20250205/df_accession_match.csv\")"
   ]
  },
  {
   "cell_type": "code",
   "execution_count": 4,
   "metadata": {},
   "outputs": [],
   "source": [
    "df_accession_match_dois = df_accession_match[df_accession_match[\"repository_europepmc\"]==\"doi\"]"
   ]
  },
  {
   "cell_type": "code",
   "execution_count": 5,
   "metadata": {},
   "outputs": [
    {
     "data": {
      "text/plain": [
       "1387"
      ]
     },
     "execution_count": 5,
     "metadata": {},
     "output_type": "execute_result"
    }
   ],
   "source": [
    "df_accession_match_dois[\"accession_number\"].nunique()"
   ]
  },
  {
   "cell_type": "code",
   "execution_count": 6,
   "metadata": {},
   "outputs": [],
   "source": [
    "# base_url = \"https://api.datacite.org/dois\"\n",
    "# params = {\n",
    "#     \"affiliations\": True,\n",
    "#     \"publishers\": True,\n",
    "# }\n",
    "# results = {}\n",
    "# for doi in tqdm(df_accession_match_dois[\"accession_number\"].unique()):\n",
    "#     r = requests.get(f\"{base_url}/{doi}\", params=params)\n",
    "#     if r.status_code == 200:\n",
    "#         results[doi] = r.json()\n",
    "#     else:\n",
    "#         results[doi] = r.status_code"
   ]
  },
  {
   "cell_type": "code",
   "execution_count": 7,
   "metadata": {},
   "outputs": [],
   "source": [
    "outfp = Path(\"../data/poster_acrl2025/dois_datacite_api_responses.pickle\")\n",
    "\n",
    "# outfp.write_bytes(pickle.dumps(results))\n",
    "\n",
    "results = pickle.loads(outfp.read_bytes())"
   ]
  },
  {
   "cell_type": "code",
   "execution_count": 20,
   "metadata": {},
   "outputs": [],
   "source": [
    "def get_row_from_crossref_api(doi: str) -> dict:\n",
    "    params = {\n",
    "        \"mailto\": \"jason.portenoy@gmail.com\",\n",
    "    }\n",
    "    r = requests.get(f\"https://api.crossref.org/works/{doi}\", params=params)\n",
    "    meta = r.json()[\"message\"]\n",
    "    prefix, suffix = doi.split(\"/\", maxsplit=1)\n",
    "    has_affiliation_data = any([a.get(\"affiliation\") for a in meta.get(\"author\", [])])\n",
    "    title = meta[\"title\"][0] if meta.get(\"title\") else \"\"\n",
    "    subjects = meta.get(\"subject\", [])\n",
    "    return {\n",
    "        \"doi\": doi,\n",
    "        \"repository\": meta.get(\"publisher\"),\n",
    "        \"has_affiliation_data\": has_affiliation_data,\n",
    "        \"title\": title,\n",
    "        \"subjects\": subjects,\n",
    "        \"funders\": meta.get(\"funding\", []),\n",
    "        \"prefix\": prefix,\n",
    "        \"suffix\": suffix,\n",
    "    }\n",
    "\n",
    "rows = []\n",
    "for doi, v in results.items():\n",
    "    if str(v) == \"404\":\n",
    "        rows.append(get_row_from_crossref_api(doi))\n",
    "        continue\n",
    "    meta = v[\"data\"][\"attributes\"]\n",
    "    has_affiliation_data = any([c.get(\"affiliation\") for c in meta.get(\"creators\", [])])\n",
    "    title = meta.get(\"titles\", [])[0]\n",
    "    title = meta[\"titles\"][0][\"title\"] if meta.get(\"titles\") else \"\"\n",
    "    subjects = [item[\"subject\"] for item in meta.get(\"subjects\", [])]\n",
    "    rows.append({\n",
    "        \"doi\": doi,\n",
    "        \"repository\": meta.get(\"publisher\"),\n",
    "        \"has_affiliation_data\": has_affiliation_data,\n",
    "        \"title\": title,\n",
    "        \"subjects\": subjects,\n",
    "        \"funders\": meta.get(\"fundingReferences\"),\n",
    "        \"prefix\": meta.get(\"prefix\"),\n",
    "        \"suffix\": meta.get(\"suffix\"),\n",
    "    })\n",
    "df_datacite_api_results = pd.DataFrame(rows)"
   ]
  },
  {
   "cell_type": "code",
   "execution_count": 23,
   "metadata": {},
   "outputs": [],
   "source": [
    "df_datacite_api_results.to_csv(\"../data/poster_acrl2025/df_datacite_and_crossref_metadata.csv\", index=False)"
   ]
  },
  {
   "cell_type": "code",
   "execution_count": null,
   "metadata": {},
   "outputs": [],
   "source": []
  }
 ],
 "metadata": {
  "kernelspec": {
   "display_name": "venv",
   "language": "python",
   "name": "python3"
  },
  "language_info": {
   "codemirror_mode": {
    "name": "ipython",
    "version": 3
   },
   "file_extension": ".py",
   "mimetype": "text/x-python",
   "name": "python",
   "nbconvert_exporter": "python",
   "pygments_lexer": "ipython3",
   "version": "3.12.7"
  }
 },
 "nbformat": 4,
 "nbformat_minor": 2
}
