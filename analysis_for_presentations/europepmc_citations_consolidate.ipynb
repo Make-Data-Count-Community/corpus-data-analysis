{
 "cells": [
  {
   "cell_type": "markdown",
   "metadata": {},
   "source": [
    "# Europe PMC data citations for ACRL 2025\n",
    "\n",
    "Use citations (annotations) from Europe PMC, and bring in data from multiple other data sources\n",
    "\n",
    "Note: this notebook uses previously prepared data in files that are not checked into version control"
   ]
  },
  {
   "cell_type": "code",
   "execution_count": 1,
   "metadata": {},
   "outputs": [],
   "source": [
    "import sys"
   ]
  },
  {
   "cell_type": "code",
   "execution_count": 2,
   "metadata": {},
   "outputs": [],
   "source": [
    "sys.path.append(\"..\")"
   ]
  },
  {
   "cell_type": "code",
   "execution_count": 3,
   "metadata": {},
   "outputs": [],
   "source": [
    "from clean_doi import clean_doi, NoDoiException\n",
    "\n",
    "def is_it_a_doi(doi: str) -> bool:\n",
    "    # if clean_doi is unsuccessful, return False indicating that the input was not actually a doi\n",
    "    try:\n",
    "        cleaned_doi = clean_doi(doi)\n",
    "        return True\n",
    "    except NoDoiException:\n",
    "        return False"
   ]
  },
  {
   "cell_type": "code",
   "execution_count": 4,
   "metadata": {},
   "outputs": [],
   "source": [
    "import pandas as pd\n",
    "import numpy as np"
   ]
  },
  {
   "cell_type": "code",
   "execution_count": 5,
   "metadata": {},
   "outputs": [],
   "source": [
    "from openalex_utils import get_openalex_dataframe_from_multiple_works_files, get_ror_map_from_institutions_file"
   ]
  },
  {
   "cell_type": "markdown",
   "metadata": {},
   "source": [
    "### OpenAlex data\n",
    "\n",
    "OpenAlex was used to collect DOIs for Northwestern University and University of Colorado, Boulder for the years 2013-2024."
   ]
  },
  {
   "cell_type": "code",
   "execution_count": 6,
   "metadata": {},
   "outputs": [],
   "source": [
    "ror_map = get_ror_map_from_institutions_file(\"../data/openalex_data_20250130/openalex_institutions.gz\")\n",
    "df_openalex = get_openalex_dataframe_from_multiple_works_files(\"../data/poster_acrl2025/openalex_data_20250205/\", ror_map=ror_map)\n",
    "df_openalex = df_openalex.drop_duplicates(subset=[\"doi\"])"
   ]
  },
  {
   "cell_type": "code",
   "execution_count": 7,
   "metadata": {},
   "outputs": [],
   "source": [
    "ucboulder_openalex_id = \"I188538660\"\n",
    "northwestern_openalex_id = \"I111979921\"\n",
    "df_openalex[\"affil_ucboulder\"] = df_openalex[\"lineage\"].apply(lambda institutions: ucboulder_openalex_id in institutions)\n",
    "df_openalex[\"affil_northwestern\"] = df_openalex[\"lineage\"].apply(lambda institutions: northwestern_openalex_id in institutions)"
   ]
  },
  {
   "cell_type": "code",
   "execution_count": 8,
   "metadata": {},
   "outputs": [
    {
     "data": {
      "text/plain": [
       "type\n",
       "article                    141630\n",
       "review                      10797\n",
       "book-chapter                 9034\n",
       "preprint                     8827\n",
       "letter                       4124\n",
       "dataset                      2396\n",
       "peer-review                  1413\n",
       "editorial                    1399\n",
       "report                        896\n",
       "other                         856\n",
       "erratum                       812\n",
       "paratext                      577\n",
       "book                          549\n",
       "reference-entry                25\n",
       "retraction                     13\n",
       "dissertation                   12\n",
       "supplementary-materials         4\n",
       "Name: count, dtype: int64"
      ]
     },
     "execution_count": 8,
     "metadata": {},
     "output_type": "execute_result"
    }
   ],
   "source": [
    "df_openalex[\"type\"].value_counts()"
   ]
  },
  {
   "cell_type": "code",
   "execution_count": 9,
   "metadata": {},
   "outputs": [
    {
     "name": "stdout",
     "output_type": "stream",
     "text": [
      "<class 'pandas.core.frame.DataFrame'>\n",
      "Index: 183364 entries, W3103145119 to W4398970660\n",
      "Data columns (total 21 columns):\n",
      " #   Column              Non-Null Count   Dtype \n",
      "---  ------              --------------   ----- \n",
      " 0   doi                 183364 non-null  object\n",
      " 1   pmid                82264 non-null   object\n",
      " 2   pmcid               31127 non-null   object\n",
      " 3   publication_date    183364 non-null  object\n",
      " 4   is_oa               183364 non-null  bool  \n",
      " 5   oa_url              113319 non-null  object\n",
      " 6   type                183364 non-null  object\n",
      " 7   type_crossref       183364 non-null  object\n",
      " 8   institutions        183364 non-null  object\n",
      " 9   institutions_ror    183364 non-null  object\n",
      " 10  lineage             183364 non-null  object\n",
      " 11  funders             183364 non-null  object\n",
      " 12  datasets            183364 non-null  object\n",
      " 13  cited_by_count      183364 non-null  int64 \n",
      " 14  primary_topic       181023 non-null  object\n",
      " 15  topic_subfield      181023 non-null  object\n",
      " 16  topic_field         181023 non-null  object\n",
      " 17  topic_domain        181023 non-null  object\n",
      " 18  lineage_ror         183364 non-null  object\n",
      " 19  affil_ucboulder     183364 non-null  bool  \n",
      " 20  affil_northwestern  183364 non-null  bool  \n",
      "dtypes: bool(3), int64(1), object(17)\n",
      "memory usage: 27.1+ MB\n"
     ]
    }
   ],
   "source": [
    "df_openalex.info()"
   ]
  },
  {
   "cell_type": "code",
   "execution_count": 12,
   "metadata": {},
   "outputs": [
    {
     "name": "stdout",
     "output_type": "stream",
     "text": [
      "Number of unique DOIs affiliated with Northwestern University: 113,608\n",
      "Number of unique DOIs affiliated with University of Colorado Boulder: 70,388\n"
     ]
    }
   ],
   "source": [
    "num_unique_dois_northwestern = df_openalex[df_openalex[\"affil_northwestern\"]==True][\"doi\"].nunique()\n",
    "print(f\"Number of unique DOIs affiliated with Northwestern University: {num_unique_dois_northwestern:,}\")\n",
    "num_unique_dois_ucboulder = df_openalex[df_openalex[\"affil_ucboulder\"]==True][\"doi\"].nunique()\n",
    "print(f\"Number of unique DOIs affiliated with University of Colorado Boulder: {num_unique_dois_ucboulder:,}\")\n"
   ]
  },
  {
   "cell_type": "code",
   "execution_count": 20,
   "metadata": {},
   "outputs": [],
   "source": [
    "df_openalex[\"publication_date\"] = pd.to_datetime(df_openalex[\"publication_date\"])\n",
    "counts_by_year = df_openalex.groupby(df_openalex[\"publication_date\"].dt.year)[[\"affil_ucboulder\", \"affil_northwestern\"]].sum().sort_index()\n",
    "counts_by_year.to_csv(\"../data/poster_acrl2025/openalex_counts_by_year_ucboulder_and_northwestern.csv\")\n"
   ]
  },
  {
   "cell_type": "markdown",
   "metadata": {},
   "source": [
    "### Europe PMC citations\n",
    "\n",
    "Combine the OpenAlex data with Europe PMC"
   ]
  },
  {
   "cell_type": "code",
   "execution_count": 8,
   "metadata": {},
   "outputs": [],
   "source": [
    "df_doi_accession_europepmc = pd.read_parquet('../data/europepmc/df_doi_accession_europepmc.parquet').dropna(subset=[\"DOI\"])"
   ]
  },
  {
   "cell_type": "code",
   "execution_count": 9,
   "metadata": {},
   "outputs": [],
   "source": [
    "oax_fields_to_merge = [\n",
    "    \"publication_date\",\n",
    "    \"is_oa\",\n",
    "    \"type\",\n",
    "    \"type_crossref\",\n",
    "    \"institutions_ror\",\n",
    "    \"primary_topic\",\n",
    "    \"topic_subfield\",\n",
    "    \"topic_field\",\n",
    "    \"topic_domain\",\n",
    "    \"funders\",\n",
    "    \"datasets\",\n",
    "    \"affil_ucboulder\",\n",
    "    \"affil_northwestern\",\n",
    "]\n",
    "to_merge = df_openalex.rename(columns={\"doi\": \"DOI\"})[[\"DOI\"] + oax_fields_to_merge].reset_index()\n",
    "df_accession_match = df_doi_accession_europepmc.merge(to_merge, how=\"inner\", on=\"DOI\")"
   ]
  },
  {
   "cell_type": "markdown",
   "metadata": {},
   "source": [
    "### Data Citation Corpus\n",
    "\n",
    "Bring in Corpus data"
   ]
  },
  {
   "cell_type": "code",
   "execution_count": 10,
   "metadata": {},
   "outputs": [],
   "source": [
    "df_corpus = pd.read_parquet('../data/df_2024-08-23-data-citation-corpus-v2.0.parquet')"
   ]
  },
  {
   "cell_type": "code",
   "execution_count": 11,
   "metadata": {},
   "outputs": [],
   "source": [
    "# identify matches in Corpus\n",
    "df_accession_match[\"target_upper\"] = df_accession_match[\"accession_number\"].str.upper()\n",
    "to_merge = df_corpus.reset_index(names=\"corpus_id\")\n",
    "to_merge[\"corpus_has_affils\"] = to_merge[\"affiliations\"].apply(lambda x: len(x) > 0)\n",
    "to_merge[\"target_upper\"] = to_merge[\"dataset\"].str.upper()\n",
    "to_merge = to_merge.rename(columns={\"publication\": \"DOI\"})\n",
    "to_merge = to_merge.rename(columns={\"funders\": \"cited_funders\", \"subjects\": \"cited_subjects\"})\n",
    "to_merge = to_merge[[\"DOI\", \"target_upper\", \"corpus_id\", \"corpus_has_affils\", \"cited_funders\", \"cited_subjects\"]]\n",
    "df_accession_match = df_accession_match.merge(to_merge, how=\"left\", on=[\"DOI\", \"target_upper\"])"
   ]
  },
  {
   "cell_type": "code",
   "execution_count": 12,
   "metadata": {},
   "outputs": [],
   "source": [
    "cols_rename = {\n",
    "    \"accession_number\": \"target\",\n",
    "    \"repository_europepmc\": \"cited_repository\",\n",
    "    \"DOI\": \"citing_doi\",\n",
    "    \"openalex_id\": \"citing_openalex_id\",\n",
    "    \"is_oa\": \"citing_is_oa\",\n",
    "    \"type\": \"citing_openalex_type\",\n",
    "    \"institutions_ror\": \"citing_institutions_ror\",\n",
    "    \"primary_topic\": \"citing_primary_topic\",\n",
    "    \"topic_subfield\": \"citing_topic_subfield\",\n",
    "    \"topic_field\": \"citing_topic_field\",\n",
    "    \"topic_domain\": \"citing_topic_domain\",\n",
    "    \"funders\": \"citing_openalex_funders\",\n",
    "    \"datasets\": \"citing_openalex_datasets\",\n",
    "}\n",
    "df_accession_match = df_accession_match.rename(columns=cols_rename)"
   ]
  },
  {
   "cell_type": "code",
   "execution_count": 13,
   "metadata": {},
   "outputs": [],
   "source": [
    "df_accession_match[\"publication_date\"] = pd.to_datetime(df_accession_match[\"publication_date\"])\n",
    "df_accession_match[\"publication_year\"] = df_accession_match[\"publication_date\"].dt.year"
   ]
  },
  {
   "cell_type": "code",
   "execution_count": 14,
   "metadata": {},
   "outputs": [],
   "source": [
    "df_accession_match[\"cited_is_doi\"] = df_accession_match[\"target\"].apply(is_it_a_doi)"
   ]
  },
  {
   "cell_type": "markdown",
   "metadata": {},
   "source": [
    "### DOI Metadata\n",
    "\n",
    "Data for target DOIs was pulled from the DataCite and Crossref APIs"
   ]
  },
  {
   "cell_type": "code",
   "execution_count": 15,
   "metadata": {},
   "outputs": [],
   "source": [
    "df_datacite_and_crossref_metadata = pd.read_csv(\"../data/poster_acrl2025/df_datacite_and_crossref_metadata.csv\")"
   ]
  },
  {
   "cell_type": "code",
   "execution_count": 16,
   "metadata": {},
   "outputs": [],
   "source": [
    "# new column for cited title from DataCite or Crossref API\n",
    "title_map = df_datacite_and_crossref_metadata.set_index(\"doi\", verify_integrity=True)[\"title\"]\n",
    "df_accession_match[\"cited_title\"] = df_accession_match[\"target\"].map(title_map)"
   ]
  },
  {
   "cell_type": "code",
   "execution_count": 17,
   "metadata": {},
   "outputs": [],
   "source": [
    "# new column for whether the DataCite or Crossref API has any affiliation info\n",
    "has_affil_map = df_datacite_and_crossref_metadata.set_index(\"doi\", verify_integrity=True)[\"has_affiliation_data\"]\n",
    "df_accession_match[\"doi_api_has_affils\"] = df_accession_match[\"target\"].map(has_affil_map)"
   ]
  },
  {
   "cell_type": "code",
   "execution_count": 18,
   "metadata": {},
   "outputs": [],
   "source": [
    "# update repository information for cited DOIs (leave accession numbers alone)\n",
    "df_accession_match[\"cited_repository\"] = df_accession_match[\"cited_repository\"].astype(str).replace(\"doi\", np.nan)\n",
    "repo_map = df_datacite_and_crossref_metadata.set_index(\"doi\", verify_integrity=True)[\"repository\"]\n",
    "update_repo = df_accession_match[\"target\"].map(repo_map)\n",
    "df_accession_match[\"cited_repository\"] = df_accession_match[\"cited_repository\"].combine_first(update_repo)"
   ]
  },
  {
   "cell_type": "code",
   "execution_count": 19,
   "metadata": {},
   "outputs": [],
   "source": [
    "# update missing subjects with info from DataCite or Crossref API\n",
    "df_accession_match[\"cited_subjects\"] = df_accession_match[\"cited_subjects\"].apply(lambda x: np.nan if str(x) == '[]' else x)\n",
    "subj_map = df_datacite_and_crossref_metadata.set_index(\"doi\", verify_integrity=True)[\"subjects\"]\n",
    "update_subjs = df_accession_match[\"target\"].map(subj_map)\n",
    "df_accession_match[\"cited_subjects\"] = df_accession_match[\"cited_subjects\"].combine_first(update_subjs)"
   ]
  },
  {
   "cell_type": "code",
   "execution_count": 20,
   "metadata": {},
   "outputs": [],
   "source": [
    "# update missing funders with info from DataCite or Crossref API\n",
    "df_accession_match[\"cited_funders\"] = df_accession_match[\"cited_funders\"].apply(lambda x: np.nan if str(x) == '[]' else x)\n",
    "fund_map = df_datacite_and_crossref_metadata.set_index(\"doi\", verify_integrity=True)[\"funders\"]\n",
    "update_funders = df_accession_match[\"target\"].map(fund_map)\n",
    "df_accession_match[\"cited_funders\"] = df_accession_match[\"cited_funders\"].combine_first(update_funders)"
   ]
  },
  {
   "cell_type": "code",
   "execution_count": 21,
   "metadata": {},
   "outputs": [],
   "source": [
    "# rearrange columns\n",
    "columns = \"\"\"\n",
    "        target\n",
    "        PMCID\n",
    "        EXTID\n",
    "        SOURCE\n",
    "        cited_repository\n",
    "        cited_is_doi\n",
    "        citing_doi\n",
    "        cited_subjects\n",
    "        cited_funders\n",
    "        cited_title\n",
    "        citing_openalex_id\n",
    "        citing_is_oa\n",
    "        citing_openalex_type\n",
    "        citing_institutions_ror\n",
    "        citing_primary_topic\n",
    "        citing_topic_subfield\n",
    "        citing_topic_field\n",
    "        citing_topic_domain\n",
    "        citing_openalex_funders\n",
    "        citing_openalex_datasets\n",
    "        affil_ucboulder\n",
    "        affil_northwestern\n",
    "        target_upper\n",
    "        corpus_id\n",
    "        corpus_has_affils\n",
    "        doi_api_has_affils\n",
    "        publication_year\n",
    "\"\"\".split()\n",
    "df_accession_match = df_accession_match[columns]"
   ]
  },
  {
   "cell_type": "markdown",
   "metadata": {},
   "source": [
    "### Bring in manual mapping of repository -> subjects"
   ]
  },
  {
   "cell_type": "code",
   "execution_count": 22,
   "metadata": {},
   "outputs": [],
   "source": [
    "# bring in repository-based subject (discipline) info\n",
    "# from https://docs.google.com/spreadsheets/d/1TddyO5We5mJidWBC_FTiZY0kpvJXutHJMqKv1sLK82c/edit?gid=2047674143#gid=2047674143\n",
    "df_repo_subj = pd.read_csv(\"../data/poster_acrl2025/assertion-count-by-repo - accession-numbers-only.csv\", usecols=[\"title\", \"abbreviation\", \"FOS mapping by DataCite staff\"])\n",
    "df_repo_subj = df_repo_subj.rename(columns={\"FOS mapping by DataCite staff\": \"subjects\"})\n",
    "df_repo_subj = df_repo_subj.dropna()\n",
    "df_repo_subj[\"abbreviation\"] = df_repo_subj[\"abbreviation\"].str.strip()\n",
    "df_repo_subj = df_repo_subj[~(df_repo_subj[\"subjects\"].str.contains(\"omit from v2\"))]"
   ]
  },
  {
   "cell_type": "code",
   "execution_count": 23,
   "metadata": {},
   "outputs": [],
   "source": [
    "# Some repo abbrevs are misaligned between the Europe PMC data and DataCite\n",
    "# Map DataCite abbreviations to Europe PMC abbreviations\n",
    "abbrevs_map = {\n",
    "    \"dbsnp\": \"refsnp\",\n",
    "    \"ena.embl\": \"gen\",\n",
    "    \"GO\": \"go\",\n",
    "    \"insdc.gca\": \"gca\",\n",
    "    \"pride\": \"pxd\",\n",
    "    \"ega.dataset\": \"ega\",\n",
    "    \"biomodels.db\": \"biomodels\",\n",
    "}"
   ]
  },
  {
   "cell_type": "code",
   "execution_count": 24,
   "metadata": {},
   "outputs": [],
   "source": [
    "repos_mapped = df_repo_subj[\"abbreviation\"].map(lambda x: abbrevs_map.get(x, x))\n",
    "repo_subj_map = df_repo_subj.set_index(repos_mapped, verify_integrity=True)[\"subjects\"]\n",
    "repo_subj_map = repo_subj_map.apply(lambda x: x.split(\"; \"))\n"
   ]
  },
  {
   "cell_type": "code",
   "execution_count": 25,
   "metadata": {},
   "outputs": [],
   "source": [
    "update_subjs = df_accession_match[\"cited_repository\"].map(repo_subj_map)\n",
    "df_accession_match[\"cited_subjects\"] = df_accession_match[\"cited_subjects\"].apply(lambda x: np.nan if str(x) == '[]' else x)\n",
    "df_accession_match[\"cited_subjects\"] = df_accession_match[\"cited_subjects\"].combine_first(update_subjs)"
   ]
  },
  {
   "cell_type": "code",
   "execution_count": null,
   "metadata": {},
   "outputs": [],
   "source": []
  },
  {
   "cell_type": "code",
   "execution_count": 26,
   "metadata": {},
   "outputs": [],
   "source": [
    "df_accession_match.to_csv(\"../data/poster_acrl2025/europepmc_data_citations_northwestern_and_ucboulder.csv\", index=False)"
   ]
  },
  {
   "cell_type": "code",
   "execution_count": null,
   "metadata": {},
   "outputs": [],
   "source": []
  },
  {
   "cell_type": "markdown",
   "metadata": {},
   "source": [
    "* How many data citations for Northwestern University and University of Colorado Boulder\n",
    "    * Breakdown per DOI and accession number\n",
    "    * Normalize per article output "
   ]
  },
  {
   "cell_type": "code",
   "execution_count": 27,
   "metadata": {},
   "outputs": [],
   "source": [
    "import matplotlib.pyplot as plt\n",
    "import seaborn as sns"
   ]
  },
  {
   "cell_type": "code",
   "execution_count": 28,
   "metadata": {},
   "outputs": [],
   "source": [
    "df_citations_dedup = df_accession_match.drop_duplicates(subset=[\"target_upper\", \"citing_doi\"])"
   ]
  },
  {
   "cell_type": "code",
   "execution_count": 29,
   "metadata": {},
   "outputs": [
    {
     "name": "stdout",
     "output_type": "stream",
     "text": [
      "Northwestern has 32,780 data citations, with 7,193 unique citing publications (DOIs), and 26,865 unique cited datasets (DOIs or accession numbers)\n",
      "Univerisity of Colorado Boulder has 7,723 data citations, with 1,811 unique citing publications (DOIs), and 6,984 unique cited datasets (DOIs or accession numbers)\n"
     ]
    }
   ],
   "source": [
    "num_citations_northwestern = int(df_citations_dedup[\"affil_northwestern\"].sum())\n",
    "num_citations_ucboulder = int(df_citations_dedup[\"affil_ucboulder\"].sum())\n",
    "df_unique_citing = df_citations_dedup[[\"citing_doi\", \"affil_northwestern\", \"affil_ucboulder\"]].drop_duplicates()\n",
    "num_unique_citing_northwestern = int(df_unique_citing[\"affil_northwestern\"].sum())\n",
    "num_unique_citing_ucboulder = int(df_unique_citing[\"affil_ucboulder\"].sum())\n",
    "df_unique_cited = df_citations_dedup[[\"target_upper\", \"affil_northwestern\", \"affil_ucboulder\"]].drop_duplicates()\n",
    "num_unique_cited_northwestern = int(df_unique_cited[\"affil_northwestern\"].sum())\n",
    "num_unique_cited_ucboulder = int(df_unique_cited[\"affil_ucboulder\"].sum())\n",
    "\n",
    "print(f\"Northwestern has {num_citations_northwestern:,} data citations, with {num_unique_citing_northwestern:,} unique citing publications (DOIs), and {num_unique_cited_northwestern:,} unique cited datasets (DOIs or accession numbers)\")\n",
    "print(f\"Univerisity of Colorado Boulder has {num_citations_ucboulder:,} data citations, with {num_unique_citing_ucboulder:,} unique citing publications (DOIs), and {num_unique_cited_ucboulder:,} unique cited datasets (DOIs or accession numbers)\")"
   ]
  },
  {
   "cell_type": "markdown",
   "metadata": {},
   "source": [
    "* Citation counts per year for each of those two institutions"
   ]
  },
  {
   "cell_type": "code",
   "execution_count": 30,
   "metadata": {},
   "outputs": [
    {
     "name": "stderr",
     "output_type": "stream",
     "text": [
      "/tmp/ipykernel_1527/3585058162.py:19: UserWarning: FigureCanvasAgg is non-interactive, and thus cannot be shown\n",
      "  fig.show()\n"
     ]
    },
    {
     "data": {
      "image/png": "[encoded data removed]",
      "text/plain": [
       "<Figure size 1400x800 with 1 Axes>"
      ]
     },
     "metadata": {},
     "output_type": "display_data"
    }
   ],
   "source": [
    "font_scale = 1.3\n",
    "custom_params = {\"axes.spines.right\": False, \n",
    "                    \"axes.spines.top\": False, \n",
    "                    'axes.labelsize': 15 * font_scale, \n",
    "                    'axes.titlesize': 18 * font_scale,   \n",
    "                    'xtick.labelsize': 12 * font_scale,  \n",
    "                    'ytick.labelsize': 12 * font_scale,  \n",
    "                    'legend.fontsize': 12 * font_scale  \n",
    "                }\n",
    "sns.set_theme(style=\"ticks\", rc=custom_params)\n",
    "citations_per_year_northwestern = df_citations_dedup[df_citations_dedup[\"affil_northwestern\"]==True][\"publication_year\"].value_counts().sort_index()\n",
    "fig, ax = plt.subplots(1, 1, figsize=(14, 8))\n",
    "# sns.barplot(citations_per_year_northwestern)\n",
    "citations_per_year_northwestern.plot(kind=\"bar\", ax=ax)\n",
    "ax.set_title(\"Data Citations Affiliated with Northwestern University\")\n",
    "ax.set_ylabel(\"Number of data citations\")\n",
    "ax.set_xlabel(\"Year of citing publication\")\n",
    "plt.tight_layout()\n",
    "fig.show()"
   ]
  },
  {
   "cell_type": "code",
   "execution_count": 31,
   "metadata": {},
   "outputs": [
    {
     "name": "stderr",
     "output_type": "stream",
     "text": [
      "/tmp/ipykernel_1527/948829173.py:19: UserWarning: FigureCanvasAgg is non-interactive, and thus cannot be shown\n",
      "  fig.show()\n"
     ]
    },
    {
     "data": {
      "image/png": "[encoded data removed]",
      "text/plain": [
       "<Figure size 1400x800 with 1 Axes>"
      ]
     },
     "metadata": {},
     "output_type": "display_data"
    }
   ],
   "source": [
    "font_scale = 1.3\n",
    "custom_params = {\"axes.spines.right\": False, \n",
    "                    \"axes.spines.top\": False, \n",
    "                    'axes.labelsize': 15 * font_scale, \n",
    "                    'axes.titlesize': 18 * font_scale,   \n",
    "                    'xtick.labelsize': 12 * font_scale,  \n",
    "                    'ytick.labelsize': 12 * font_scale,  \n",
    "                    'legend.fontsize': 12 * font_scale  \n",
    "                }\n",
    "sns.set_theme(style=\"ticks\", rc=custom_params)\n",
    "citations_per_year_ucboulder = df_citations_dedup[df_citations_dedup[\"affil_ucboulder\"]==True][\"publication_year\"].value_counts().sort_index()\n",
    "fig, ax = plt.subplots(1, 1, figsize=(14, 8))\n",
    "# sns.barplot(citations_per_year_ucboulder)\n",
    "citations_per_year_ucboulder.plot(kind=\"bar\", ax=ax)\n",
    "ax.set_title(\"Data Citations Affiliated with University of Colorado Boulder\")\n",
    "ax.set_ylabel(\"Number of data citations\")\n",
    "ax.set_xlabel(\"Year of citing publication\")\n",
    "plt.tight_layout()\n",
    "fig.show()"
   ]
  },
  {
   "cell_type": "code",
   "execution_count": null,
   "metadata": {},
   "outputs": [],
   "source": []
  },
  {
   "cell_type": "code",
   "execution_count": 32,
   "metadata": {},
   "outputs": [
    {
     "name": "stderr",
     "output_type": "stream",
     "text": [
      "/tmp/ipykernel_1527/4005718757.py:16: SettingWithCopyWarning: \n",
      "A value is trying to be set on a copy of a slice from a DataFrame.\n",
      "Try using .loc[row_indexer,col_indexer] = value instead\n",
      "\n",
      "See the caveats in the documentation: https://pandas.pydata.org/pandas-docs/stable/user_guide/indexing.html#returning-a-view-versus-a-copy\n",
      "  _df[\"cited_subjects\"] = _df[\"cited_subjects\"].apply(_list_interpret)\n"
     ]
    },
    {
     "data": {
      "text/plain": [
       "np.int64(6)"
      ]
     },
     "execution_count": 32,
     "metadata": {},
     "output_type": "execute_result"
    }
   ],
   "source": [
    "import json\n",
    "\n",
    "def _list_interpret(x):\n",
    "    if type(x) == str:\n",
    "        try:\n",
    "            return json.loads(x.replace(\"'\", '\"'))\n",
    "        except json.JSONDecodeError:\n",
    "            return None\n",
    "    else:\n",
    "        return x\n",
    "\n",
    "def _report_type(x):\n",
    "    return type(x)\n",
    "\n",
    "_df = df_citations_dedup.dropna(subset=\"cited_subjects\")\n",
    "_df[\"cited_subjects\"] = _df[\"cited_subjects\"].apply(_list_interpret)\n",
    "# _df[\"subj_type\"] = _df[\"cited_subjects\"].apply(_report_type)\n",
    "# _df[\"subj_type\"].value_counts()\n",
    "# _df[_df[\"subj_type\"]==str]\n",
    "_df[\"cited_subjects\"].isna().sum()"
   ]
  },
  {
   "cell_type": "code",
   "execution_count": 36,
   "metadata": {},
   "outputs": [
    {
     "data": {
      "application/vnd.microsoft.datawrangler.viewer.v0+json": {
       "columns": [
        {
         "name": "index",
         "rawType": "int64",
         "type": "integer"
        },
        {
         "name": "target_upper",
         "rawType": "string",
         "type": "string"
        },
        {
         "name": "citing_doi",
         "rawType": "object",
         "type": "string"
        },
        {
         "name": "cited_subjects",
         "rawType": "object",
         "type": "string"
        },
        {
         "name": "affil_northwestern",
         "rawType": "bool",
         "type": "boolean"
        },
        {
         "name": "affil_ucboulder",
         "rawType": "bool",
         "type": "boolean"
        }
       ],
       "conversionMethod": "pd.DataFrame",
       "ref": "396a4ef2-c6f8-4eef-a785-269b4dc224a3",
       "rows": [
        [
         "0",
         "E-MTAB-6506",
         "10.1101/2024.07.26.605398",
         "Biological sciences",
         "True",
         "False"
        ],
        [
         "1",
         "E-MTAB-6506",
         "10.1101/2024.07.26.605398",
         "Basic medicine",
         "True",
         "False"
        ],
        [
         "2",
         "E-MTAB-6508",
         "10.1101/2024.07.26.605398",
         "Biological sciences",
         "True",
         "False"
        ],
        [
         "3",
         "E-MTAB-6508",
         "10.1101/2024.07.26.605398",
         "Basic medicine",
         "True",
         "False"
        ],
        [
         "4",
         "E-MTAB-6528",
         "10.1101/2024.07.26.605398",
         "Biological sciences",
         "True",
         "False"
        ],
        [
         "5",
         "E-MTAB-6528",
         "10.1101/2024.07.26.605398",
         "Basic medicine",
         "True",
         "False"
        ],
        [
         "6",
         "E-MTAB-6530",
         "10.1101/2024.07.26.605398",
         "Biological sciences",
         "True",
         "False"
        ],
        [
         "7",
         "E-MTAB-6530",
         "10.1101/2024.07.26.605398",
         "Basic medicine",
         "True",
         "False"
        ],
        [
         "8",
         "E-MTAB-9532",
         "10.1016/j.stem.2022.05.007",
         "Biological sciences",
         "True",
         "False"
        ],
        [
         "9",
         "E-MTAB-9532",
         "10.1016/j.stem.2022.05.007",
         "Basic medicine",
         "True",
         "False"
        ],
        [
         "10",
         "E-MTAB-8901",
         "10.1016/j.stem.2022.05.007",
         "Biological sciences",
         "True",
         "False"
        ],
        [
         "11",
         "E-MTAB-8901",
         "10.1016/j.stem.2022.05.007",
         "Basic medicine",
         "True",
         "False"
        ],
        [
         "12",
         "E-GEOD-16179",
         "10.1039/c4ib00086b",
         "Biological sciences",
         "True",
         "False"
        ],
        [
         "13",
         "E-GEOD-16179",
         "10.1039/c4ib00086b",
         "Basic medicine",
         "True",
         "False"
        ],
        [
         "14",
         "E-MEXP-440",
         "10.1039/c4ib00086b",
         "Biological sciences",
         "True",
         "False"
        ],
        [
         "15",
         "E-MEXP-440",
         "10.1039/c4ib00086b",
         "Basic medicine",
         "True",
         "False"
        ],
        [
         "16",
         "E-MTAB-7247",
         "10.1038/s41467-024-46240-9",
         "Biological sciences",
         "True",
         "False"
        ],
        [
         "17",
         "E-MTAB-7247",
         "10.1038/s41467-024-46240-9",
         "Basic medicine",
         "True",
         "False"
        ],
        [
         "18",
         "E-MTAB-6149",
         "10.1038/s41467-022-29154-2",
         "biological sciences",
         "True",
         "False"
        ],
        [
         "19",
         "E-MTAB-6149",
         "10.1038/s41467-022-29154-2",
         "basic medicine",
         "True",
         "False"
        ],
        [
         "20",
         "E-MTAB-7",
         "10.1038/s41523-021-00379-6",
         "basic medicine",
         "True",
         "False"
        ],
        [
         "21",
         "E-MTAB-7",
         "10.1038/s41523-021-00379-6",
         "biological sciences",
         "True",
         "False"
        ],
        [
         "22",
         "E-MTAB-8677",
         "10.1084/jem.20201750",
         "Biological sciences",
         "True",
         "False"
        ],
        [
         "23",
         "E-MTAB-8677",
         "10.1084/jem.20201750",
         "Basic medicine",
         "True",
         "False"
        ],
        [
         "24",
         "E-MTAB-8676",
         "10.1084/jem.20201750",
         "Biological sciences",
         "True",
         "False"
        ],
        [
         "25",
         "E-MTAB-8676",
         "10.1084/jem.20201750",
         "Basic medicine",
         "True",
         "False"
        ],
        [
         "26",
         "E-MTAB-9771",
         "10.1016/j.celrep.2020.108489",
         "Biological sciences",
         "False",
         "True"
        ],
        [
         "27",
         "E-MTAB-9771",
         "10.1016/j.celrep.2020.108489",
         "Basic medicine",
         "False",
         "True"
        ],
        [
         "28",
         "E-MTAB-7729",
         "10.1016/j.ccell.2019.06.007",
         "Biological sciences",
         "True",
         "False"
        ],
        [
         "29",
         "E-MTAB-7729",
         "10.1016/j.ccell.2019.06.007",
         "Basic medicine",
         "True",
         "False"
        ],
        [
         "30",
         "E-GEOD-3351",
         "10.1186/s12859-019-2825-2",
         "Biological sciences",
         "True",
         "False"
        ],
        [
         "31",
         "E-GEOD-3351",
         "10.1186/s12859-019-2825-2",
         "Basic medicine",
         "True",
         "False"
        ],
        [
         "32",
         "E-GEOD-36617",
         "10.1186/s12859-019-2825-2",
         "Biological sciences",
         "True",
         "False"
        ],
        [
         "33",
         "E-GEOD-36617",
         "10.1186/s12859-019-2825-2",
         "Basic medicine",
         "True",
         "False"
        ],
        [
         "34",
         "E-MTAB-6014",
         "10.7554/elife.35788",
         "biological sciences",
         "True",
         "False"
        ],
        [
         "35",
         "E-MTAB-6014",
         "10.7554/elife.35788",
         "basic medicine",
         "True",
         "False"
        ],
        [
         "36",
         "E-MTAB-6013",
         "10.7554/elife.35788",
         "basic medicine",
         "True",
         "False"
        ],
        [
         "37",
         "E-MTAB-6013",
         "10.7554/elife.35788",
         "biological sciences",
         "True",
         "False"
        ],
        [
         "38",
         "E-MTAB-2502",
         "10.1073/pnas.1804965115",
         "Biological sciences",
         "True",
         "False"
        ],
        [
         "39",
         "E-MTAB-2502",
         "10.1073/pnas.1804965115",
         "Basic medicine",
         "True",
         "False"
        ],
        [
         "40",
         "E-MTAB-888",
         "10.1016/j.molcel.2015.01.007",
         "Biological sciences",
         "True",
         "False"
        ],
        [
         "41",
         "E-MTAB-888",
         "10.1016/j.molcel.2015.01.007",
         "Basic medicine",
         "True",
         "False"
        ],
        [
         "42",
         "E-MTAB-997",
         "10.1016/j.molcel.2015.01.007",
         "Biological sciences",
         "True",
         "False"
        ],
        [
         "43",
         "E-MTAB-997",
         "10.1016/j.molcel.2015.01.007",
         "Basic medicine",
         "True",
         "False"
        ],
        [
         "44",
         "E-GEOD-9844",
         "10.1172/jci72718",
         "Biological sciences",
         "True",
         "False"
        ],
        [
         "45",
         "E-GEOD-9844",
         "10.1172/jci72718",
         "Basic medicine",
         "True",
         "False"
        ],
        [
         "46",
         "E-GEOD-23558",
         "10.1172/jci72718",
         "Biological sciences",
         "True",
         "False"
        ],
        [
         "47",
         "E-GEOD-23558",
         "10.1172/jci72718",
         "Basic medicine",
         "True",
         "False"
        ],
        [
         "48",
         "E-MTAB-10353",
         "10.1158/0008-5472.can-23-1976",
         "Biological sciences",
         "False",
         "True"
        ],
        [
         "49",
         "E-MTAB-10353",
         "10.1158/0008-5472.can-23-1976",
         "Basic medicine",
         "False",
         "True"
        ]
       ],
       "shape": {
        "columns": 5,
        "rows": 67893
       }
      },
      "text/html": [
       "<div>\n",
       "<style scoped>\n",
       "    .dataframe tbody tr th:only-of-type {\n",
       "        vertical-align: middle;\n",
       "    }\n",
       "\n",
       "    .dataframe tbody tr th {\n",
       "        vertical-align: top;\n",
       "    }\n",
       "\n",
       "    .dataframe thead th {\n",
       "        text-align: right;\n",
       "    }\n",
       "</style>\n",
       "<table border=\"1\" class=\"dataframe\">\n",
       "  <thead>\n",
       "    <tr style=\"text-align: right;\">\n",
       "      <th></th>\n",
       "      <th>target_upper</th>\n",
       "      <th>citing_doi</th>\n",
       "      <th>cited_subjects</th>\n",
       "      <th>affil_northwestern</th>\n",
       "      <th>affil_ucboulder</th>\n",
       "    </tr>\n",
       "  </thead>\n",
       "  <tbody>\n",
       "    <tr>\n",
       "      <th>0</th>\n",
       "      <td>E-MTAB-6506</td>\n",
       "      <td>10.1101/2024.07.26.605398</td>\n",
       "      <td>Biological sciences</td>\n",
       "      <td>True</td>\n",
       "      <td>False</td>\n",
       "    </tr>\n",
       "    <tr>\n",
       "      <th>1</th>\n",
       "      <td>E-MTAB-6506</td>\n",
       "      <td>10.1101/2024.07.26.605398</td>\n",
       "      <td>Basic medicine</td>\n",
       "      <td>True</td>\n",
       "      <td>False</td>\n",
       "    </tr>\n",
       "    <tr>\n",
       "      <th>2</th>\n",
       "      <td>E-MTAB-6508</td>\n",
       "      <td>10.1101/2024.07.26.605398</td>\n",
       "      <td>Biological sciences</td>\n",
       "      <td>True</td>\n",
       "      <td>False</td>\n",
       "    </tr>\n",
       "    <tr>\n",
       "      <th>3</th>\n",
       "      <td>E-MTAB-6508</td>\n",
       "      <td>10.1101/2024.07.26.605398</td>\n",
       "      <td>Basic medicine</td>\n",
       "      <td>True</td>\n",
       "      <td>False</td>\n",
       "    </tr>\n",
       "    <tr>\n",
       "      <th>4</th>\n",
       "      <td>E-MTAB-6528</td>\n",
       "      <td>10.1101/2024.07.26.605398</td>\n",
       "      <td>Biological sciences</td>\n",
       "      <td>True</td>\n",
       "      <td>False</td>\n",
       "    </tr>\n",
       "    <tr>\n",
       "      <th>...</th>\n",
       "      <td>...</td>\n",
       "      <td>...</td>\n",
       "      <td>...</td>\n",
       "      <td>...</td>\n",
       "      <td>...</td>\n",
       "    </tr>\n",
       "    <tr>\n",
       "      <th>67888</th>\n",
       "      <td>O13526</td>\n",
       "      <td>10.1021/ja4029654</td>\n",
       "      <td>Basic medicine</td>\n",
       "      <td>True</td>\n",
       "      <td>False</td>\n",
       "    </tr>\n",
       "    <tr>\n",
       "      <th>67889</th>\n",
       "      <td>P15381</td>\n",
       "      <td>10.1021/jm4005048</td>\n",
       "      <td>Biological sciences</td>\n",
       "      <td>True</td>\n",
       "      <td>False</td>\n",
       "    </tr>\n",
       "    <tr>\n",
       "      <th>67890</th>\n",
       "      <td>P15381</td>\n",
       "      <td>10.1021/jm4005048</td>\n",
       "      <td>Basic medicine</td>\n",
       "      <td>True</td>\n",
       "      <td>False</td>\n",
       "    </tr>\n",
       "    <tr>\n",
       "      <th>67891</th>\n",
       "      <td>P49687</td>\n",
       "      <td>10.1371/journal.pbio.1001524</td>\n",
       "      <td>Biological sciences</td>\n",
       "      <td>True</td>\n",
       "      <td>False</td>\n",
       "    </tr>\n",
       "    <tr>\n",
       "      <th>67892</th>\n",
       "      <td>P49687</td>\n",
       "      <td>10.1371/journal.pbio.1001524</td>\n",
       "      <td>Basic medicine</td>\n",
       "      <td>True</td>\n",
       "      <td>False</td>\n",
       "    </tr>\n",
       "  </tbody>\n",
       "</table>\n",
       "<p>67893 rows × 5 columns</p>\n",
       "</div>"
      ],
      "text/plain": [
       "      target_upper                    citing_doi       cited_subjects  \\\n",
       "0      E-MTAB-6506     10.1101/2024.07.26.605398  Biological sciences   \n",
       "1      E-MTAB-6506     10.1101/2024.07.26.605398       Basic medicine   \n",
       "2      E-MTAB-6508     10.1101/2024.07.26.605398  Biological sciences   \n",
       "3      E-MTAB-6508     10.1101/2024.07.26.605398       Basic medicine   \n",
       "4      E-MTAB-6528     10.1101/2024.07.26.605398  Biological sciences   \n",
       "...            ...                           ...                  ...   \n",
       "67888       O13526             10.1021/ja4029654       Basic medicine   \n",
       "67889       P15381             10.1021/jm4005048  Biological sciences   \n",
       "67890       P15381             10.1021/jm4005048       Basic medicine   \n",
       "67891       P49687  10.1371/journal.pbio.1001524  Biological sciences   \n",
       "67892       P49687  10.1371/journal.pbio.1001524       Basic medicine   \n",
       "\n",
       "       affil_northwestern  affil_ucboulder  \n",
       "0                    True            False  \n",
       "1                    True            False  \n",
       "2                    True            False  \n",
       "3                    True            False  \n",
       "4                    True            False  \n",
       "...                   ...              ...  \n",
       "67888                True            False  \n",
       "67889                True            False  \n",
       "67890                True            False  \n",
       "67891                True            False  \n",
       "67892                True            False  \n",
       "\n",
       "[67893 rows x 5 columns]"
      ]
     },
     "execution_count": 36,
     "metadata": {},
     "output_type": "execute_result"
    }
   ],
   "source": [
    "cited_subjects = df_citations_dedup[[\"target_upper\", \"citing_doi\", \"cited_subjects\", \"affil_northwestern\", \"affil_ucboulder\"]].dropna(subset=\"cited_subjects\").explode(column=\"cited_subjects\", ignore_index=True)\n",
    "cited_subjects"
   ]
  },
  {
   "cell_type": "code",
   "execution_count": 37,
   "metadata": {},
   "outputs": [
    {
     "data": {
      "application/vnd.microsoft.datawrangler.viewer.v0+json": {
       "columns": [
        {
         "name": "index",
         "rawType": "int64",
         "type": "integer"
        },
        {
         "name": "cited_subjects",
         "rawType": "object",
         "type": "string"
        },
        {
         "name": "count",
         "rawType": "int64",
         "type": "integer"
        }
       ],
       "conversionMethod": "pd.DataFrame",
       "ref": "00630e54-e727-4c3b-b110-2e25ff6bfd28",
       "rows": [
        [
         "0",
         "Biological sciences",
         "23213"
        ],
        [
         "1",
         "Basic medicine",
         "23213"
        ],
        [
         "2",
         "biological sciences",
         "4820"
        ],
        [
         "3",
         "basic medicine",
         "4820"
        ],
        [
         "4",
         "Chemical sciences",
         "4156"
        ],
        [
         "5",
         "Physical sciences",
         "4082"
        ],
        [
         "6",
         "chemical sciences",
         "1149"
        ],
        [
         "7",
         "physical sciences",
         "1120"
        ],
        [
         "8",
         "Animal and dairy science",
         "522"
        ],
        [
         "9",
         "animal and dairy science",
         "39"
        ],
        [
         "10",
         "['atmospheric trace gases', 'CO2', 'CH4', 'CO', 'N2O', 'column-averaged dry-air mole fractions', 'remote sensing', 'FTIR spectroscopy', 'TCCON']",
         "28"
        ],
        [
         "11",
         "['Surface Energy Budget', 'Arctic Atmosphere', 'Radiation', 'Atmosphere-Ice Interactions', 'Arctic Climate']",
         "15"
        ],
        [
         "12",
         "['Cell Biology']",
         "14"
        ],
        [
         "13",
         "['Earth and Environmental Sciences', 'Social Sciences']",
         "11"
        ],
        [
         "14",
         "['Dataset', 'Craniofacial development', 'Craniosafial malformation']",
         "11"
        ],
        [
         "15",
         "['60504 Microbial Ecology', 'FOS: Biological sciences']",
         "10"
        ],
        [
         "16",
         "['Microbial ecology']",
         "9"
        ],
        [
         "17",
         "['Neuroscience']",
         "8"
        ],
        [
         "18",
         "['Antarctica', 'Greenland', 'Freshwater', 'Hosing', 'Climate Model', 'Linear', 'Nonlinear']",
         "8"
        ],
        [
         "19",
         "['Social Sciences']",
         "7"
        ],
        [
         "20",
         "['population']",
         "7"
        ],
        [
         "21",
         "['Earth and Environmental Sciences', 'Social Sciences', 'Human Settlement']",
         "6"
        ],
        [
         "22",
         "['FOS: Biological sciences', 'FOS: Biological sciences']",
         "5"
        ],
        [
         "23",
         "['Microbiology', 'FOS: Biological sciences', 'FOS: Biological sciences']",
         "5"
        ],
        [
         "24",
         "['cldf:StructureDataset', 'linguistics']",
         "5"
        ],
        [
         "25",
         "['PDS', 'PDS4']",
         "5"
        ],
        [
         "26",
         "['Medicine, Health and Life Sciences']",
         "5"
        ],
        [
         "27",
         "['60504 Microbial Ecology', 'FOS: Biological sciences', 'FOS: Biological sciences']",
         "4"
        ],
        [
         "28",
         "['Earth and Environmental Sciences', 'Social Sciences', 'Human Settlement', 'Built-up intensity']",
         "4"
        ],
        [
         "29",
         "['Ecology', 'FOS: Biological sciences']",
         "4"
        ],
        [
         "30",
         "['Electrification', 'Fixed Observation Stations', 'In Situ Land-based Platforms &gt; &gt; FIXED OBSERVATION STATIONS &gt; &gt; 2219e7fa-9fd0-443d-ab1b-62d1ccf41a89', 'Cordoba Argentina Marx Meter Array (CAMMA)', 'EARTH SCIENCE &gt; ATMOSPHERE &gt; WEATHER EVENTS &gt; LIGHTNING', 'EARTH SCIENCE &gt; ATMOSPHERE &gt; ATMOSPHERIC ELECTRICITY &gt; LIGHTNING', 'RELAMPAGO', 'Remote sensing of Electrification, Lightning, And Mesoscale/microscale Processes with Adaptive Ground Observations']",
         "4"
        ],
        [
         "31",
         "['Earth and Environmental Sciences', 'Social Sciences', 'Human settlement, built environment, housing statistics, historical geospatial data, building stock database']",
         "4"
        ],
        [
         "32",
         "['UAS', 'drone', 'atmosphere', 'Arctic Ocean', 'MOSAiC']",
         "3"
        ],
        [
         "33",
         "['FOS: Natural sciences', 'FOS: Natural sciences']",
         "3"
        ],
        [
         "34",
         "['PheKnowLator Ecosystem', 'Knowledge Graph', 'Open Biological and Biomedical Ontology Foundry', 'OWL', 'Class-based Knowledge Model + Standard Relations', 'PheKnowLator Ecosystem Human Disease Knowledge Graph Benchmark', 'Benchmark']",
         "3"
        ],
        [
         "35",
         "['Preterm Birth']",
         "3"
        ],
        [
         "36",
         "['Ecology', 'FOS: Biological sciences', 'FOS: Biological sciences', 'Microbiology']",
         "3"
        ],
        [
         "37",
         "['60202 Community Ecology (excl. Invasive Species Ecology)', 'FOS: Biological sciences', 'FOS: Biological sciences']",
         "3"
        ],
        [
         "38",
         "['Systems biology']",
         "3"
        ],
        [
         "39",
         "['Aircraft', 'Aerosols', 'Chemistry', 'NSF/NCAR GV HIAPER', 'Aircraft &gt; &gt; NSF/NCAR GV HIAPER &gt; NSF/NCAR Gulfstream GV Aircraft &gt; 879d697c-381f-45df-a48d-2d9095bc5c54', 'GPS Receivers', 'Earth Remote Sensing Instruments &gt; Passive Remote Sensing &gt; Positioning/Navigation &gt; GPS &gt; GPS RECEIVERS &gt; &gt; 029feed6-79dc-4316-b8ac-be8f1e557f89', 'PMS - Particle Measuring System', 'In Situ/Laboratory Instruments &gt; Chemical Meters/Analyzers &gt; &gt; &gt; PMS &gt; Particle Measuring System &gt; 9fb77604-82f9-4ad1-9995-c0a99df09629', 'Quantum Cascade Laser Spectrometer - QCLS', 'UCATS-GC - Unmanned Chromatograph Airborne System for Atmospheric Trace Species - Gas Chromatography', 'In Situ/Laboratory Instruments &gt; Chemical Meters/Analyzers &gt; &gt; &gt; UCATS-GC &gt; Unmanned Chromatograph Airborne System for Atmospheric Trace Species - Gas Chromatography (UCATS-GC) &gt; b74e1bfe-67bf-4120-a399-56ebe124dfc8', 'EARTH SCIENCE &gt; ATMOSPHERE &gt; AIR QUALITY &gt; PARTICULATES', 'EARTH SCIENCE &gt; ATMOSPHERE &gt; AEROSOLS &gt; ORGANIC PARTICLES', 'EARTH SCIENCE &gt; ATMOSPHERE &gt; ATMOSPHERIC WATER VAPOR &gt; WATER VAPOR INDICATORS &gt; DEW POINT TEMPERATURE', 'EARTH SCIENCE &gt; ATMOSPHERE &gt; AEROSOLS &gt; NITRATE PARTICLES', 'EARTH SCIENCE &gt; ATMOSPHERE &gt; ATMOSPHERIC CHEMISTRY &gt; CARBON AND HYDROCARBON COMPOUNDS &gt; NON-METHANE HYDROCARBONS/VOLATILE ORGANIC COMPOUNDS', 'EARTH SCIENCE &gt; ATMOSPHERE &gt; ATMOSPHERIC TEMPERATURE &gt; UPPER AIR TEMPERATURE', 'EARTH SCIENCE &gt; ATMOSPHERE &gt; ATMOSPHERIC CHEMISTRY &gt; NITROGEN COMPOUNDS &gt; NITROUS OXIDE', 'EARTH SCIENCE &gt; ATMOSPHERE &gt; ATMOSPHERIC TEMPERATURE &gt; UPPER AIR TEMPERATURE &gt; DEW POINT TEMPERATURE', 'EARTH SCIENCE &gt; ATMOSPHERE &gt; ATMOSPHERIC CHEMISTRY &gt; OXYGEN COMPOUNDS &gt; ATMOSPHERIC OZONE', 'EARTH SCIENCE &gt; ATMOSPHERE &gt; ATMOSPHERIC CHEMISTRY &gt; CARBON AND HYDROCARBON COMPOUNDS &gt; ATMOSPHERIC CARBON MONOXIDE', 'EARTH SCIENCE &gt; ATMOSPHERE &gt; ATMOSPHERIC CHEMISTRY &gt; OXYGEN COMPOUNDS &gt; MOLECULAR OXYGEN', 'EARTH SCIENCE &gt; ATMOSPHERE &gt; ATMOSPHERIC WATER VAPOR &gt; WATER VAPOR INDICATORS &gt; HUMIDITY &gt; RELATIVE HUMIDITY', 'EARTH SCIENCE &gt; ATMOSPHERE &gt; ATMOSPHERIC WINDS &gt; UPPER LEVEL WINDS &gt; U/V WIND COMPONENTS', 'EARTH SCIENCE &gt; ATMOSPHERE &gt; ATMOSPHERIC WINDS &gt; WIND DYNAMICS &gt; VERTICAL WIND VELOCITY/SPEED', 'EARTH SCIENCE &gt; ATMOSPHERE &gt; ATMOSPHERIC CHEMISTRY &gt; HALOCARBONS AND HALOGENS &gt; CHLOROFLUOROCARBONS', 'EARTH SCIENCE &gt; ATMOSPHERE &gt; CLOUDS &gt; CLOUD MICROPHYSICS &gt; CLOUD LIQUID WATER/ICE', 'EARTH SCIENCE &gt; ATMOSPHERE &gt; ATMOSPHERIC CHEMISTRY &gt; NITROGEN COMPOUNDS &gt; Peroxyacyl Nitrate', 'EARTH SCIENCE &gt; ATMOSPHERE &gt; ATMOSPHERIC CHEMISTRY &gt; HYDROGEN COMPOUNDS &gt; MOLECULAR HYDROGEN', 'EARTH SCIENCE &gt; ATMOSPHERE &gt; ATMOSPHERIC CHEMISTRY &gt; CARBON AND HYDROCARBON COMPOUNDS &gt; ATMOSPHERIC CARBON DIOXIDE', 'EARTH SCIENCE &gt; ATMOSPHERE &gt; ATMOSPHERIC CHEMISTRY &gt; CARBON AND HYDROCARBON COMPOUNDS &gt; METHANE', 'EARTH SCIENCE &gt; ATMOSPHERE &gt; ATMOSPHERIC WATER VAPOR &gt; WATER VAPOR INDICATORS &gt; HUMIDITY &gt; HUMIDITY MIXING RATIO', 'HIPPO4', 'HIAPER Pole to Pole Observations 4 (HIPPO-4)', 'HIPPO2', 'HIAPER Pole to Pole Observations 2 (HIPPO-2)', 'HIPPO3', 'HIAPER Pole to Pole Observations 3 (HIPPO-3)', 'HIPPO5', 'HIAPER Pole to Pole Observations 5 (HIPPO-5)', 'HIPPO', 'HIAPER Pole to Pole Observations 1 (HIPPO-1)']",
         "3"
        ],
        [
         "40",
         "['FOS: Health sciences', 'FOS: Health sciences']",
         "3"
        ],
        [
         "41",
         "['STFC ISIS Neutron and Muon Data']",
         "3"
        ],
        [
         "42",
         "['Molecular Biology']",
         "3"
        ],
        [
         "43",
         "['ABCD']",
         "2"
        ],
        [
         "44",
         "['Spontaneous preterm birth']",
         "2"
        ],
        [
         "45",
         "['54 ENVIRONMENTAL SCIENCES']",
         "2"
        ],
        [
         "46",
         "['Sequence analysis']",
         "2"
        ],
        [
         "47",
         "['PheKnowLator Ecosystem', 'Knowledge Graph', 'Open Biological and Biomedical Ontology Foundry', 'OWL', 'Class-based Knowledge Model + Inverse Relations', 'PheKnowLator Ecosystem Human Disease Knowledge Graph Benchmark', 'Benchmark']",
         "2"
        ],
        [
         "48",
         "['PheKnowLator Ecosystem', 'Knowledge Graph', 'Open Biological and Biomedical Ontology Foundry', 'OWL', 'Instance-based Knowledge Model + Inverse Relations', 'PheKnowLator Ecosystem Human Disease Knowledge Graph Benchmark', 'Benchmark']",
         "2"
        ],
        [
         "49",
         "['NEON, ecology, remote sensing, data science, image processing, machine learning']",
         "2"
        ]
       ],
       "shape": {
        "columns": 2,
        "rows": 552
       }
      },
      "text/html": [
       "<div>\n",
       "<style scoped>\n",
       "    .dataframe tbody tr th:only-of-type {\n",
       "        vertical-align: middle;\n",
       "    }\n",
       "\n",
       "    .dataframe tbody tr th {\n",
       "        vertical-align: top;\n",
       "    }\n",
       "\n",
       "    .dataframe thead th {\n",
       "        text-align: right;\n",
       "    }\n",
       "</style>\n",
       "<table border=\"1\" class=\"dataframe\">\n",
       "  <thead>\n",
       "    <tr style=\"text-align: right;\">\n",
       "      <th></th>\n",
       "      <th>cited_subjects</th>\n",
       "      <th>count</th>\n",
       "    </tr>\n",
       "  </thead>\n",
       "  <tbody>\n",
       "    <tr>\n",
       "      <th>0</th>\n",
       "      <td>Biological sciences</td>\n",
       "      <td>23213</td>\n",
       "    </tr>\n",
       "    <tr>\n",
       "      <th>1</th>\n",
       "      <td>Basic medicine</td>\n",
       "      <td>23213</td>\n",
       "    </tr>\n",
       "    <tr>\n",
       "      <th>2</th>\n",
       "      <td>biological sciences</td>\n",
       "      <td>4820</td>\n",
       "    </tr>\n",
       "    <tr>\n",
       "      <th>3</th>\n",
       "      <td>basic medicine</td>\n",
       "      <td>4820</td>\n",
       "    </tr>\n",
       "    <tr>\n",
       "      <th>4</th>\n",
       "      <td>Chemical sciences</td>\n",
       "      <td>4156</td>\n",
       "    </tr>\n",
       "    <tr>\n",
       "      <th>...</th>\n",
       "      <td>...</td>\n",
       "      <td>...</td>\n",
       "    </tr>\n",
       "    <tr>\n",
       "      <th>547</th>\n",
       "      <td>['solar-induced fluorescence', 'GPP', 'needle ...</td>\n",
       "      <td>1</td>\n",
       "    </tr>\n",
       "    <tr>\n",
       "      <th>548</th>\n",
       "      <td>sociology</td>\n",
       "      <td>1</td>\n",
       "    </tr>\n",
       "    <tr>\n",
       "      <th>549</th>\n",
       "      <td>['[ 25 ] All Cognitive Disorders/Dementia', '[...</td>\n",
       "      <td>1</td>\n",
       "    </tr>\n",
       "    <tr>\n",
       "      <th>550</th>\n",
       "      <td>['Population ecology', '2012', '2011', 'Entomo...</td>\n",
       "      <td>1</td>\n",
       "    </tr>\n",
       "    <tr>\n",
       "      <th>551</th>\n",
       "      <td>['Duchenne muscular dystrophy--Animal models',...</td>\n",
       "      <td>1</td>\n",
       "    </tr>\n",
       "  </tbody>\n",
       "</table>\n",
       "<p>552 rows × 2 columns</p>\n",
       "</div>"
      ],
      "text/plain": [
       "                                        cited_subjects  count\n",
       "0                                  Biological sciences  23213\n",
       "1                                       Basic medicine  23213\n",
       "2                                  biological sciences   4820\n",
       "3                                       basic medicine   4820\n",
       "4                                    Chemical sciences   4156\n",
       "..                                                 ...    ...\n",
       "547  ['solar-induced fluorescence', 'GPP', 'needle ...      1\n",
       "548                                          sociology      1\n",
       "549  ['[ 25 ] All Cognitive Disorders/Dementia', '[...      1\n",
       "550  ['Population ecology', '2012', '2011', 'Entomo...      1\n",
       "551  ['Duchenne muscular dystrophy--Animal models',...      1\n",
       "\n",
       "[552 rows x 2 columns]"
      ]
     },
     "execution_count": 37,
     "metadata": {},
     "output_type": "execute_result"
    }
   ],
   "source": [
    "vc_subjects = cited_subjects[\"cited_subjects\"].value_counts().reset_index()\n",
    "vc_subjects"
   ]
  },
  {
   "cell_type": "code",
   "execution_count": null,
   "metadata": {},
   "outputs": [],
   "source": []
  },
  {
   "cell_type": "code",
   "execution_count": 38,
   "metadata": {},
   "outputs": [
    {
     "data": {
      "image/png": "[encoded data removed]",
      "text/plain": [
       "<Figure size 640x480 with 1 Axes>"
      ]
     },
     "metadata": {},
     "output_type": "display_data"
    }
   ],
   "source": [
    "to_plot = df_citations_dedup[df_citations_dedup[\"affil_northwestern\"]==True][\"citing_topic_domain\"].value_counts()\n",
    "ax = to_plot.plot(kind=\"pie\")\n",
    "ax.set_ylabel(None)\n",
    "plt.tight_layout()\n",
    "plt.show()"
   ]
  },
  {
   "cell_type": "code",
   "execution_count": null,
   "metadata": {},
   "outputs": [],
   "source": []
  },
  {
   "cell_type": "code",
   "execution_count": 39,
   "metadata": {},
   "outputs": [
    {
     "data": {
      "image/png": "[encoded data removed]",
      "text/plain": [
       "<Figure size 640x480 with 1 Axes>"
      ]
     },
     "metadata": {},
     "output_type": "display_data"
    }
   ],
   "source": [
    "repo_normalize = df_citations_dedup[df_citations_dedup[\"affil_northwestern\"]==True][\"cited_repository\"].apply(lambda x: x.split(\";\")[0])\n",
    "df_repository_counts = repo_normalize.value_counts().reset_index()\n",
    "# to_plot.loc[to_plot[\"count\"] < 75, \"cited_repository\"] = \"other\"\n",
    "df_repository_counts.loc[df_repository_counts.index > 10, \"cited_repository\"] = \"other\"\n",
    "to_plot = df_repository_counts.groupby(\"cited_repository\").sum(\"count\")\n",
    "ax = to_plot[\"count\"].plot(kind=\"pie\")\n",
    "ax.set_ylabel(None)\n",
    "plt.tight_layout()\n",
    "plt.show()"
   ]
  },
  {
   "cell_type": "code",
   "execution_count": 41,
   "metadata": {},
   "outputs": [
    {
     "data": {
      "image/png": "[encoded data removed]",
      "text/plain": [
       "<Figure size 640x480 with 1 Axes>"
      ]
     },
     "metadata": {},
     "output_type": "display_data"
    }
   ],
   "source": [
    "repo_normalize = df_citations_dedup[df_citations_dedup[\"affil_ucboulder\"]==True][\"cited_repository\"].apply(lambda x: x.split(\";\")[0])\n",
    "df_repository_counts = repo_normalize.value_counts().reset_index()\n",
    "# to_plot.loc[to_plot[\"count\"] < 75, \"cited_repository\"] = \"other\"\n",
    "df_repository_counts.loc[df_repository_counts.index > 10, \"cited_repository\"] = \"other\"\n",
    "to_plot = df_repository_counts.groupby(\"cited_repository\").sum(\"count\")\n",
    "ax = to_plot[\"count\"].plot(kind=\"pie\")\n",
    "ax.set_ylabel(None)\n",
    "# ax.legend()\n",
    "plt.tight_layout()\n",
    "plt.show()"
   ]
  },
  {
   "cell_type": "code",
   "execution_count": null,
   "metadata": {},
   "outputs": [],
   "source": []
  },
  {
   "cell_type": "code",
   "execution_count": null,
   "metadata": {},
   "outputs": [],
   "source": []
  }
 ],
 "metadata": {
  "kernelspec": {
   "display_name": "venv",
   "language": "python",
   "name": "python3"
  },
  "language_info": {
   "codemirror_mode": {
    "name": "ipython",
    "version": 3
   },
   "file_extension": ".py",
   "mimetype": "text/x-python",
   "name": "python",
   "nbconvert_exporter": "python",
   "pygments_lexer": "ipython3",
   "version": "3.12.7"
  }
 },
 "nbformat": 4,
 "nbformat_minor": 2
}
