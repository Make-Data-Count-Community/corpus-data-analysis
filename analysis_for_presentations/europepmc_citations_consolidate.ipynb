{
 "cells": [
  {
   "cell_type": "markdown",
   "metadata": {},
   "source": [
    "# Europe PMC data citations for ACRL 2025\n",
    "\n",
    "Use citations (annotations) from Europe PMC, and bring in data from multiple other data sources"
   ]
  },
  {
   "cell_type": "code",
   "execution_count": 1,
   "metadata": {},
   "outputs": [],
   "source": [
    "import sys"
   ]
  },
  {
   "cell_type": "code",
   "execution_count": 2,
   "metadata": {},
   "outputs": [],
   "source": [
    "sys.path.append(\"..\")"
   ]
  },
  {
   "cell_type": "code",
   "execution_count": 3,
   "metadata": {},
   "outputs": [],
   "source": [
    "from clean_doi import clean_doi, NoDoiException\n",
    "\n",
    "def is_it_a_doi(doi: str) -> bool:\n",
    "    # if clean_doi is unsuccessful, return False indicating that the input was not actually a doi\n",
    "    try:\n",
    "        cleaned_doi = clean_doi(doi)\n",
    "        return True\n",
    "    except NoDoiException:\n",
    "        return False"
   ]
  },
  {
   "cell_type": "code",
   "execution_count": 4,
   "metadata": {},
   "outputs": [],
   "source": [
    "import pandas as pd\n",
    "import numpy as np"
   ]
  },
  {
   "cell_type": "code",
   "execution_count": 5,
   "metadata": {},
   "outputs": [],
   "source": [
    "from openalex_utils import get_openalex_dataframe_from_multiple_works_files, get_ror_map_from_institutions_file"
   ]
  },
  {
   "cell_type": "markdown",
   "metadata": {},
   "source": [
    "### OpenAlex data\n",
    "\n",
    "OpenAlex was used to collect DOIs for Northwestern University and University of Colorado, Boulder for the years 2013-2024."
   ]
  },
  {
   "cell_type": "code",
   "execution_count": 6,
   "metadata": {},
   "outputs": [],
   "source": [
    "ror_map = get_ror_map_from_institutions_file(\"../data/openalex_data_20250130/openalex_institutions.gz\")\n",
    "df_openalex = get_openalex_dataframe_from_multiple_works_files(\"../data/poster_acrl2025/openalex_data_20250205/\", ror_map=ror_map)\n",
    "df_openalex = df_openalex.drop_duplicates(subset=[\"doi\"])"
   ]
  },
  {
   "cell_type": "code",
   "execution_count": 7,
   "metadata": {},
   "outputs": [],
   "source": [
    "ucboulder_openalex_id = \"I188538660\"\n",
    "northwestern_openalex_id = \"I111979921\"\n",
    "df_openalex[\"affil_ucboulder\"] = df_openalex[\"lineage\"].apply(lambda institutions: ucboulder_openalex_id in institutions)\n",
    "df_openalex[\"affil_northwestern\"] = df_openalex[\"lineage\"].apply(lambda institutions: northwestern_openalex_id in institutions)"
   ]
  },
  {
   "cell_type": "markdown",
   "metadata": {},
   "source": [
    "### Europe PMC citations\n",
    "\n",
    "Combine the OpenAlex data with Europe PMC"
   ]
  },
  {
   "cell_type": "code",
   "execution_count": 8,
   "metadata": {},
   "outputs": [],
   "source": [
    "df_doi_accession_europepmc = pd.read_parquet('../data/europepmc/df_doi_accession_europepmc.parquet').dropna(subset=[\"DOI\"])"
   ]
  },
  {
   "cell_type": "code",
   "execution_count": 9,
   "metadata": {},
   "outputs": [],
   "source": [
    "oax_fields_to_merge = [\n",
    "    \"publication_date\",\n",
    "    \"is_oa\",\n",
    "    \"type\",\n",
    "    \"type_crossref\",\n",
    "    \"institutions_ror\",\n",
    "    \"primary_topic\",\n",
    "    \"topic_subfield\",\n",
    "    \"topic_field\",\n",
    "    \"topic_domain\",\n",
    "    \"funders\",\n",
    "    \"datasets\",\n",
    "    \"affil_ucboulder\",\n",
    "    \"affil_northwestern\",\n",
    "]\n",
    "to_merge = df_openalex.rename(columns={\"doi\": \"DOI\"})[[\"DOI\"] + oax_fields_to_merge].reset_index()\n",
    "df_accession_match = df_doi_accession_europepmc.merge(to_merge, how=\"inner\", on=\"DOI\")"
   ]
  },
  {
   "cell_type": "markdown",
   "metadata": {},
   "source": [
    "### Data Citation Corpus\n",
    "\n",
    "Bring in Corpus data"
   ]
  },
  {
   "cell_type": "code",
   "execution_count": 10,
   "metadata": {},
   "outputs": [],
   "source": [
    "df_corpus = pd.read_parquet('../data/df_2024-08-23-data-citation-corpus-v2.0.parquet')"
   ]
  },
  {
   "cell_type": "code",
   "execution_count": 11,
   "metadata": {},
   "outputs": [],
   "source": [
    "# identify matches in Corpus\n",
    "df_accession_match[\"target_upper\"] = df_accession_match[\"accession_number\"].str.upper()\n",
    "to_merge = df_corpus.reset_index(names=\"corpus_id\")\n",
    "to_merge[\"corpus_has_affils\"] = to_merge[\"affiliations\"].apply(lambda x: len(x) > 0)\n",
    "to_merge[\"target_upper\"] = to_merge[\"dataset\"].str.upper()\n",
    "to_merge = to_merge.rename(columns={\"publication\": \"DOI\"})\n",
    "to_merge = to_merge.rename(columns={\"funders\": \"cited_funders\", \"subjects\": \"cited_subjects\"})\n",
    "to_merge = to_merge[[\"DOI\", \"target_upper\", \"corpus_id\", \"corpus_has_affils\", \"cited_funders\", \"cited_subjects\"]]\n",
    "df_accession_match = df_accession_match.merge(to_merge, how=\"left\", on=[\"DOI\", \"target_upper\"])"
   ]
  },
  {
   "cell_type": "code",
   "execution_count": 12,
   "metadata": {},
   "outputs": [],
   "source": [
    "cols_rename = {\n",
    "    \"accession_number\": \"target\",\n",
    "    \"repository_europepmc\": \"cited_repository\",\n",
    "    \"DOI\": \"citing_doi\",\n",
    "    \"openalex_id\": \"citing_openalex_id\",\n",
    "    \"is_oa\": \"citing_is_oa\",\n",
    "    \"type\": \"citing_openalex_type\",\n",
    "    \"institutions_ror\": \"citing_institutions_ror\",\n",
    "    \"primary_topic\": \"citing_primary_topic\",\n",
    "    \"topic_subfield\": \"citing_topic_subfield\",\n",
    "    \"topic_field\": \"citing_topic_field\",\n",
    "    \"topic_domain\": \"citing_topic_domain\",\n",
    "    \"funders\": \"citing_openalex_funders\",\n",
    "    \"datasets\": \"citing_openalex_datasets\",\n",
    "}\n",
    "df_accession_match = df_accession_match.rename(columns=cols_rename)"
   ]
  },
  {
   "cell_type": "code",
   "execution_count": 13,
   "metadata": {},
   "outputs": [],
   "source": [
    "df_accession_match[\"publication_date\"] = pd.to_datetime(df_accession_match[\"publication_date\"])\n",
    "df_accession_match[\"publication_year\"] = df_accession_match[\"publication_date\"].dt.year"
   ]
  },
  {
   "cell_type": "code",
   "execution_count": 14,
   "metadata": {},
   "outputs": [],
   "source": [
    "df_accession_match[\"cited_is_doi\"] = df_accession_match[\"target\"].apply(is_it_a_doi)"
   ]
  },
  {
   "cell_type": "markdown",
   "metadata": {},
   "source": [
    "### DOI Metadata\n",
    "\n",
    "Data for target DOIs was pulled from the DataCite and Crossref APIs"
   ]
  },
  {
   "cell_type": "code",
   "execution_count": 15,
   "metadata": {},
   "outputs": [],
   "source": [
    "df_datacite_and_crossref_metadata = pd.read_csv(\"../data/poster_acrl2025/df_datacite_and_crossref_metadata.csv\")"
   ]
  },
  {
   "cell_type": "code",
   "execution_count": 16,
   "metadata": {},
   "outputs": [],
   "source": [
    "# new column for cited title from DataCite or Crossref API\n",
    "title_map = df_datacite_and_crossref_metadata.set_index(\"doi\", verify_integrity=True)[\"title\"]\n",
    "df_accession_match[\"cited_title\"] = df_accession_match[\"target\"].map(title_map)"
   ]
  },
  {
   "cell_type": "code",
   "execution_count": 17,
   "metadata": {},
   "outputs": [],
   "source": [
    "# new column for whether the DataCite or Crossref API has any affiliation info\n",
    "has_affil_map = df_datacite_and_crossref_metadata.set_index(\"doi\", verify_integrity=True)[\"has_affiliation_data\"]\n",
    "df_accession_match[\"doi_api_has_affils\"] = df_accession_match[\"target\"].map(has_affil_map)"
   ]
  },
  {
   "cell_type": "code",
   "execution_count": 18,
   "metadata": {},
   "outputs": [],
   "source": [
    "# update repository information for cited DOIs (leave accession numbers alone)\n",
    "df_accession_match[\"cited_repository\"] = df_accession_match[\"cited_repository\"].astype(str).replace(\"doi\", np.nan)\n",
    "repo_map = df_datacite_and_crossref_metadata.set_index(\"doi\", verify_integrity=True)[\"repository\"]\n",
    "update_repo = df_accession_match[\"target\"].map(repo_map)\n",
    "df_accession_match[\"cited_repository\"] = df_accession_match[\"cited_repository\"].combine_first(update_repo)"
   ]
  },
  {
   "cell_type": "code",
   "execution_count": 19,
   "metadata": {},
   "outputs": [],
   "source": [
    "# update missing subjects with info from DataCite or Crossref API\n",
    "df_accession_match[\"cited_subjects\"] = df_accession_match[\"cited_subjects\"].apply(lambda x: np.nan if str(x) == '[]' else x)\n",
    "subj_map = df_datacite_and_crossref_metadata.set_index(\"doi\", verify_integrity=True)[\"subjects\"]\n",
    "update_subjs = df_accession_match[\"target\"].map(subj_map)\n",
    "df_accession_match[\"cited_subjects\"] = df_accession_match[\"cited_subjects\"].combine_first(update_subjs)"
   ]
  },
  {
   "cell_type": "code",
   "execution_count": 20,
   "metadata": {},
   "outputs": [],
   "source": [
    "# update missing funders with info from DataCite or Crossref API\n",
    "df_accession_match[\"cited_funders\"] = df_accession_match[\"cited_funders\"].apply(lambda x: np.nan if str(x) == '[]' else x)\n",
    "fund_map = df_datacite_and_crossref_metadata.set_index(\"doi\", verify_integrity=True)[\"funders\"]\n",
    "update_funders = df_accession_match[\"target\"].map(fund_map)\n",
    "df_accession_match[\"cited_funders\"] = df_accession_match[\"cited_funders\"].combine_first(update_funders)"
   ]
  },
  {
   "cell_type": "code",
   "execution_count": 21,
   "metadata": {},
   "outputs": [],
   "source": [
    "# rearrange columns\n",
    "columns = \"\"\"\n",
    "        target\n",
    "        PMCID\n",
    "        EXTID\n",
    "        SOURCE\n",
    "        cited_repository\n",
    "        cited_is_doi\n",
    "        citing_doi\n",
    "        cited_subjects\n",
    "        cited_funders\n",
    "        cited_title\n",
    "        citing_openalex_id\n",
    "        citing_is_oa\n",
    "        citing_openalex_type\n",
    "        citing_institutions_ror\n",
    "        citing_primary_topic\n",
    "        citing_topic_subfield\n",
    "        citing_topic_field\n",
    "        citing_topic_domain\n",
    "        citing_openalex_funders\n",
    "        citing_openalex_datasets\n",
    "        affil_ucboulder\n",
    "        affil_northwestern\n",
    "        target_upper\n",
    "        corpus_id\n",
    "        corpus_has_affils\n",
    "        doi_api_has_affils\n",
    "        publication_year\n",
    "\"\"\".split()\n",
    "df_accession_match = df_accession_match[columns]"
   ]
  },
  {
   "cell_type": "markdown",
   "metadata": {},
   "source": [
    "### Bring in manual mapping of repository -> subjects"
   ]
  },
  {
   "cell_type": "code",
   "execution_count": 22,
   "metadata": {},
   "outputs": [],
   "source": [
    "# bring in repository-based subject (discipline) info\n",
    "# from https://docs.google.com/spreadsheets/d/1TddyO5We5mJidWBC_FTiZY0kpvJXutHJMqKv1sLK82c/edit?gid=2047674143#gid=2047674143\n",
    "df_repo_subj = pd.read_csv(\"../data/poster_acrl2025/assertion-count-by-repo - accession-numbers-only.csv\", usecols=[\"title\", \"abbreviation\", \"FOS mapping by DataCite staff\"])\n",
    "df_repo_subj = df_repo_subj.rename(columns={\"FOS mapping by DataCite staff\": \"subjects\"})\n",
    "df_repo_subj = df_repo_subj.dropna()\n",
    "df_repo_subj[\"abbreviation\"] = df_repo_subj[\"abbreviation\"].str.strip()\n",
    "df_repo_subj = df_repo_subj[~(df_repo_subj[\"subjects\"].str.contains(\"omit from v2\"))]"
   ]
  },
  {
   "cell_type": "code",
   "execution_count": 23,
   "metadata": {},
   "outputs": [],
   "source": [
    "# Some repo abbrevs are misaligned between the Europe PMC data and DataCite\n",
    "# Map DataCite abbreviations to Europe PMC abbreviations\n",
    "abbrevs_map = {\n",
    "    \"dbsnp\": \"refsnp\",\n",
    "    \"ena.embl\": \"gen\",\n",
    "    \"GO\": \"go\",\n",
    "    \"insdc.gca\": \"gca\",\n",
    "    \"pride\": \"pxd\",\n",
    "    \"ega.dataset\": \"ega\",\n",
    "    \"biomodels.db\": \"biomodels\",\n",
    "}"
   ]
  },
  {
   "cell_type": "code",
   "execution_count": 24,
   "metadata": {},
   "outputs": [],
   "source": [
    "repos_mapped = df_repo_subj[\"abbreviation\"].map(lambda x: abbrevs_map.get(x, x))\n",
    "repo_subj_map = df_repo_subj.set_index(repos_mapped, verify_integrity=True)[\"subjects\"]\n",
    "repo_subj_map = repo_subj_map.apply(lambda x: x.split(\"; \"))\n"
   ]
  },
  {
   "cell_type": "code",
   "execution_count": 25,
   "metadata": {},
   "outputs": [],
   "source": [
    "update_subjs = df_accession_match[\"cited_repository\"].map(repo_subj_map)\n",
    "df_accession_match[\"cited_subjects\"] = df_accession_match[\"cited_subjects\"].apply(lambda x: np.nan if str(x) == '[]' else x)\n",
    "df_accession_match[\"cited_subjects\"] = df_accession_match[\"cited_subjects\"].combine_first(update_subjs)"
   ]
  },
  {
   "cell_type": "code",
   "execution_count": null,
   "metadata": {},
   "outputs": [],
   "source": []
  },
  {
   "cell_type": "code",
   "execution_count": 33,
   "metadata": {},
   "outputs": [],
   "source": [
    "df_accession_match.to_csv(\"../data/poster_acrl2025/europepmc_data_citations_northwestern_and_ucboulder.csv\")"
   ]
  },
  {
   "cell_type": "code",
   "execution_count": null,
   "metadata": {},
   "outputs": [],
   "source": []
  }
 ],
 "metadata": {
  "kernelspec": {
   "display_name": "venv",
   "language": "python",
   "name": "python3"
  },
  "language_info": {
   "codemirror_mode": {
    "name": "ipython",
    "version": 3
   },
   "file_extension": ".py",
   "mimetype": "text/x-python",
   "name": "python",
   "nbconvert_exporter": "python",
   "pygments_lexer": "ipython3",
   "version": "3.12.7"
  }
 },
 "nbformat": 4,
 "nbformat_minor": 2
}
