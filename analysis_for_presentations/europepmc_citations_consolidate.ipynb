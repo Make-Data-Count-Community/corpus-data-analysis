{
 "cells": [
  {
   "cell_type": "code",
   "execution_count": 1,
   "metadata": {},
   "outputs": [],
   "source": [
    "import sys"
   ]
  },
  {
   "cell_type": "code",
   "execution_count": 2,
   "metadata": {},
   "outputs": [],
   "source": [
    "sys.path.append(\"..\")"
   ]
  },
  {
   "cell_type": "code",
   "execution_count": 3,
   "metadata": {},
   "outputs": [],
   "source": [
    "from clean_doi import clean_doi, NoDoiException\n",
    "\n",
    "def is_it_a_doi(doi: str) -> bool:\n",
    "    # if clean_doi is unsuccessful, return False indicating that the input was not actually a doi\n",
    "    try:\n",
    "        cleaned_doi = clean_doi(doi)\n",
    "        return True\n",
    "    except NoDoiException:\n",
    "        return False"
   ]
  },
  {
   "cell_type": "code",
   "execution_count": 4,
   "metadata": {},
   "outputs": [],
   "source": [
    "import pandas as pd\n",
    "import numpy as np"
   ]
  },
  {
   "cell_type": "code",
   "execution_count": 5,
   "metadata": {},
   "outputs": [],
   "source": [
    "df_accession_match = pd.read_csv(\"../data/poster_acrl2025/openalex_data_20250205/df_accession_match.csv\")"
   ]
  },
  {
   "cell_type": "code",
   "execution_count": 6,
   "metadata": {},
   "outputs": [],
   "source": [
    "df_datacite_and_crossref_metadata = pd.read_csv(\"../data/poster_acrl2025/df_datacite_and_crossref_metadata.csv\")"
   ]
  },
  {
   "cell_type": "code",
   "execution_count": 9,
   "metadata": {},
   "outputs": [],
   "source": [
    "left_rename = {\n",
    "    \"accession_number\": \"target\",\n",
    "    \"repository_europepmc\": \"cited_repository\",\n",
    "    \"DOI\": \"citing_doi\",\n",
    "    \"openalex_id\": \"citing_openalex_id\",\n",
    "    \"is_oa\": \"citing_is_oa\",\n",
    "    \"type\": \"citing_openalex_type\",\n",
    "    \"institutions_ror\": \"citing_institutions_ror\",\n",
    "    \"primary_topic\": \"citing_primary_topic\",\n",
    "    \"topic_subfield\": \"citing_topic_subfield\",\n",
    "    \"topic_field\": \"citing_topic_field\",\n",
    "    \"topic_domain\": \"citing_topic_domain\",\n",
    "    \"funders\": \"citing_openalex_funders\",\n",
    "    \"datasets\": \"citing_openalex_datasets\",\n",
    "}\n",
    "\n",
    "right_rename = {\n",
    "    \"doi\": \"target\",\n",
    "    \"has_affiliation_data\": \"doi_api_has_affils\",\n",
    "    \"title\": \"cited_title\",\n",
    "    \"subjects\": \"cited_subjects\",\n",
    "    \"funders\": \"cited_funders\",\n",
    "}\n",
    "\n",
    "columns = \"\"\"\n",
    "        target\n",
    "        PMCID\n",
    "        EXTID\n",
    "        SOURCE\n",
    "        cited_repository\n",
    "        cited_is_doi\n",
    "        citing_doi\n",
    "        cited_subjects\n",
    "        cited_funders\n",
    "        cited_title\n",
    "        citing_openalex_id\n",
    "        citing_is_oa\n",
    "        citing_openalex_type\n",
    "        citing_institutions_ror\n",
    "        citing_primary_topic\n",
    "        citing_topic_subfield\n",
    "        citing_topic_field\n",
    "        citing_topic_domain\n",
    "        citing_openalex_funders\n",
    "        citing_openalex_datasets\n",
    "        affil_ucboulder\n",
    "        affil_northwestern\n",
    "        target_upper\n",
    "        corpus_id\n",
    "        corpus_has_affils\n",
    "        doi_api_has_affils\n",
    "        publication_year\n",
    "\"\"\".split()"
   ]
  },
  {
   "cell_type": "code",
   "execution_count": 10,
   "metadata": {},
   "outputs": [],
   "source": [
    "left = df_accession_match.rename(columns=left_rename)\n",
    "left = left[[col for col in columns if col in left.columns]]\n",
    "left[\"cited_is_doi\"] = left[\"target\"].apply(is_it_a_doi)"
   ]
  },
  {
   "cell_type": "code",
   "execution_count": 11,
   "metadata": {},
   "outputs": [],
   "source": [
    "right = df_datacite_and_crossref_metadata.rename(columns=right_rename)\n",
    "right = right[[col for col in columns if col in right.columns]]"
   ]
  },
  {
   "cell_type": "code",
   "execution_count": 12,
   "metadata": {},
   "outputs": [],
   "source": [
    "merged = left.merge(right, how=\"left\", on=[\"target\"])"
   ]
  },
  {
   "cell_type": "code",
   "execution_count": 13,
   "metadata": {},
   "outputs": [],
   "source": [
    "# fill in repository information for cited DOIs (leave accession numbers alone)\n",
    "merged[\"cited_repository\"] = merged[\"cited_repository\"].replace(\"doi\", np.nan)\n",
    "merged[\"cited_repository\"] = merged[\"cited_repository\"].fillna(value=df_datacite_and_crossref_metadata[\"repository\"])"
   ]
  },
  {
   "cell_type": "code",
   "execution_count": 14,
   "metadata": {},
   "outputs": [],
   "source": [
    "# rearrange columns\n",
    "merged = merged[columns]"
   ]
  },
  {
   "cell_type": "code",
   "execution_count": null,
   "metadata": {},
   "outputs": [],
   "source": []
  }
 ],
 "metadata": {
  "kernelspec": {
   "display_name": "venv",
   "language": "python",
   "name": "python3"
  },
  "language_info": {
   "codemirror_mode": {
    "name": "ipython",
    "version": 3
   },
   "file_extension": ".py",
   "mimetype": "text/x-python",
   "name": "python",
   "nbconvert_exporter": "python",
   "pygments_lexer": "ipython3",
   "version": "3.12.7"
  }
 },
 "nbformat": 4,
 "nbformat_minor": 2
}
